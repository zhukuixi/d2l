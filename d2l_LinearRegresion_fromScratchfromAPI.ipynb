{
  "nbformat": 4,
  "nbformat_minor": 0,
  "metadata": {
    "colab": {
      "name": "d2l_LinearRegresion_fromScratchfromAPI.ipynb",
      "provenance": [],
      "collapsed_sections": [],
      "authorship_tag": "ABX9TyMcjct3BqS90EDwLtt3u0uc",
      "include_colab_link": true
    },
    "kernelspec": {
      "name": "python3",
      "display_name": "Python 3"
    },
    "language_info": {
      "name": "python"
    }
  },
  "cells": [
    {
      "cell_type": "markdown",
      "metadata": {
        "id": "view-in-github",
        "colab_type": "text"
      },
      "source": [
        "<a href=\"https://colab.research.google.com/github/zhukuixi/d2l/blob/main/d2l_LinearRegresion_fromScratchfromAPI.ipynb\" target=\"_parent\"><img src=\"https://colab.research.google.com/assets/colab-badge.svg\" alt=\"Open In Colab\"/></a>"
      ]
    },
    {
      "cell_type": "code",
      "execution_count": null,
      "metadata": {
        "id": "cCsmhr8Sn_RY"
      },
      "outputs": [],
      "source": [
        "import torch\n",
        "import numpy as np\n",
        "import random"
      ]
    },
    {
      "cell_type": "markdown",
      "source": [
        "# From Scratch"
      ],
      "metadata": {
        "id": "6jAjWeslxE1Y"
      }
    },
    {
      "cell_type": "code",
      "source": [
        "def synthetic_data(w,b,n):\n",
        "  # X^2*w1 + X*w2 +b\n",
        "  X = torch.normal(0,1,(n,len(w)))  \n",
        "  X[:,0] = X[:,0]**2\n",
        "  Y = X@w+b\n",
        "  Y += torch.normal(0,0.01,Y.shape)\n",
        "  return X,Y"
      ],
      "metadata": {
        "id": "S6FUaUm8oGF7"
      },
      "execution_count": null,
      "outputs": []
    },
    {
      "cell_type": "code",
      "source": [
        "# generate synthetic data\n",
        "true_para_w = torch.tensor([3,2],dtype=torch.float32).reshape(-1,1)\n",
        "true_para_b = torch.tensor([1])\n",
        "X,Y = synthetic_data(true_para_w,true_para_b,100)\n",
        "\n",
        "# batch generator\n",
        "def batchIterator(x,y,batch_size):\n",
        "  index = np.arange(len(x))\n",
        "  random.shuffle(index)\n",
        "  \n",
        "  for i in range(0,len(x),batch_size):\n",
        "    batch_index = index[np.arange(i,min(i+batch_size,len(x)))]\n",
        "    yield x[batch_index],y[batch_index]\n",
        "  \n",
        "\n",
        "\n",
        "# model\n",
        "def net(X,w,b):\n",
        "  return X@w+b\n",
        "\n",
        "# loss\n",
        "def getloss(para,X,Y):\n",
        "  w,b = para\n",
        "  y_predict = net(X,w,b)\n",
        "  loss = ((y_predict-Y.reshape(y_predict.shape))**2).mean().sqrt()\n",
        "  return loss\n",
        "\n",
        "# update parameter\n",
        "def updatePara(para,lr,batch_size):\n",
        "  for p in para:\n",
        "      p.data -= p.grad*lr/batch_size\n",
        "      p.grad.zero_()\n",
        "  \n"
      ],
      "metadata": {
        "id": "TBJ4vZTvoO3k"
      },
      "execution_count": 154,
      "outputs": []
    },
    {
      "cell_type": "markdown",
      "source": [],
      "metadata": {
        "id": "7peRiHugxELK"
      }
    },
    {
      "cell_type": "code",
      "source": [
        "# initial parameter\n",
        "w = torch.normal(0,1,true_para_w.shape,requires_grad=True)\n",
        "b = torch.normal(0,1,true_para_b.shape,requires_grad=True)\n",
        "batch_size=20\n",
        "lr=0.5\n",
        "for epoch in range(30):\n",
        "  for x,y in batchIterator(X,Y,batch_size):    \n",
        "    loss = getloss((w,b),x,y)\n",
        "    loss.backward()\n",
        "    updatePara((w,b),lr,batch_size)\n",
        "  with torch.no_grad():\n",
        "    trainLoss = getloss((w,b),X,Y)\n",
        "    print(f'epoch:{epoch} train_loss{trainLoss}')\n",
        " "
      ],
      "metadata": {
        "colab": {
          "base_uri": "https://localhost:8080/"
        },
        "id": "8aVLJoV3qcnP",
        "outputId": "2082151d-2734-4bdb-e772-5eca22cc598b"
      },
      "execution_count": 155,
      "outputs": [
        {
          "output_type": "stream",
          "name": "stdout",
          "text": [
            "epoch:0 train_loss6.6645097732543945\n",
            "epoch:1 train_loss6.3247199058532715\n",
            "epoch:2 train_loss5.984911918640137\n",
            "epoch:3 train_loss5.654780387878418\n",
            "epoch:4 train_loss5.323352336883545\n",
            "epoch:5 train_loss4.99605655670166\n",
            "epoch:6 train_loss4.6825337409973145\n",
            "epoch:7 train_loss4.3686137199401855\n",
            "epoch:8 train_loss4.063063621520996\n",
            "epoch:9 train_loss3.7643165588378906\n",
            "epoch:10 train_loss3.4803380966186523\n",
            "epoch:11 train_loss3.2016892433166504\n",
            "epoch:12 train_loss2.9322237968444824\n",
            "epoch:13 train_loss2.6777453422546387\n",
            "epoch:14 train_loss2.4334075450897217\n",
            "epoch:15 train_loss2.207381010055542\n",
            "epoch:16 train_loss1.9941487312316895\n",
            "epoch:17 train_loss1.801249623298645\n",
            "epoch:18 train_loss1.6251888275146484\n",
            "epoch:19 train_loss1.4626107215881348\n",
            "epoch:20 train_loss1.3148353099822998\n",
            "epoch:21 train_loss1.1777992248535156\n",
            "epoch:22 train_loss1.0511094331741333\n",
            "epoch:23 train_loss0.9338873028755188\n",
            "epoch:24 train_loss0.8254746198654175\n",
            "epoch:25 train_loss0.7234444618225098\n",
            "epoch:26 train_loss0.6278339624404907\n",
            "epoch:27 train_loss0.5374303460121155\n",
            "epoch:28 train_loss0.4525830149650574\n",
            "epoch:29 train_loss0.3746710419654846\n"
          ]
        }
      ]
    },
    {
      "cell_type": "markdown",
      "source": [
        "# From API"
      ],
      "metadata": {
        "id": "hPrYHzHzoEuk"
      }
    },
    {
      "cell_type": "code",
      "source": [
        "from torch.utils import data"
      ],
      "metadata": {
        "id": "OseQVVf4xJgl"
      },
      "execution_count": null,
      "outputs": []
    },
    {
      "cell_type": "code",
      "source": [
        "# batch generator\n",
        "def load_array(data_array,batch_size,is_train=True):\n",
        "  dataset = data.TensorDataset(*data_array)\n",
        "  return data.DataLoader(dataset,batch_size=batch_size,shuffle=is_train)"
      ],
      "metadata": {
        "id": "iDU4HNuBxSxD"
      },
      "execution_count": null,
      "outputs": []
    },
    {
      "cell_type": "code",
      "source": [
        "batch_size=20\n",
        "data_iter = load_array((X, Y), batch_size)"
      ],
      "metadata": {
        "id": "ISiVFy4Wx1Pa"
      },
      "execution_count": null,
      "outputs": []
    },
    {
      "cell_type": "code",
      "source": [
        "from torch import nn\n",
        "\n",
        "# batch generator\n",
        "def load_array(data_array,batch_size,is_train=True):\n",
        "  dataset = data.TensorDataset(*data_array)\n",
        "  return data.DataLoader(dataset,batch_size=batch_size,shuffle=is_train)\n",
        "\n",
        "#model\n",
        "net = nn.Sequential(nn.Linear(2, 1))\n",
        "\n",
        "#loss\n",
        "loss = nn.HuberLoss()\n",
        "\n",
        "#optimizer\n",
        "trainer = torch.optim.SGD(net.parameters(), lr=0.03)\n"
      ],
      "metadata": {
        "id": "cCVeY9unx8ZC"
      },
      "execution_count": null,
      "outputs": []
    },
    {
      "cell_type": "code",
      "source": [
        "\n",
        "#initial parameter\n",
        "net[0].weight.data.normal_(0, 0.01)\n",
        "net[0].bias.data.fill_(0)\n",
        "\n",
        "num_epochs = 20\n",
        "for epoch in range(num_epochs):\n",
        "    for x, y in data_iter:\n",
        "        l = loss(net(x) ,y)\n",
        "        trainer.zero_grad()\n",
        "        l.backward()\n",
        "        trainer.step()\n",
        "    l = loss(net(X), Y)\n",
        "    print(f'epoch {epoch + 1}, loss {l:f}')"
      ],
      "metadata": {
        "colab": {
          "base_uri": "https://localhost:8080/"
        },
        "id": "4L97vd81yvO-",
        "outputId": "5ecd258b-5ddb-4807-a1c2-4fedad957f1b"
      },
      "execution_count": null,
      "outputs": [
        {
          "output_type": "stream",
          "name": "stdout",
          "text": [
            "epoch 1, loss 3.887452\n",
            "epoch 2, loss 3.665075\n",
            "epoch 3, loss 3.446028\n",
            "epoch 4, loss 3.230402\n",
            "epoch 5, loss 3.017489\n",
            "epoch 6, loss 2.807659\n",
            "epoch 7, loss 2.600961\n",
            "epoch 8, loss 2.398503\n",
            "epoch 9, loss 2.199972\n",
            "epoch 10, loss 2.006513\n",
            "epoch 11, loss 1.819197\n",
            "epoch 12, loss 1.639069\n",
            "epoch 13, loss 1.467265\n",
            "epoch 14, loss 1.302925\n",
            "epoch 15, loss 1.147366\n",
            "epoch 16, loss 1.000661\n",
            "epoch 17, loss 0.862736\n",
            "epoch 18, loss 0.734626\n",
            "epoch 19, loss 0.618156\n",
            "epoch 20, loss 0.513352\n"
          ]
        }
      ]
    },
    {
      "cell_type": "code",
      "source": [],
      "metadata": {
        "id": "3GGJIx9N0I2z"
      },
      "execution_count": null,
      "outputs": []
    },
    {
      "cell_type": "code",
      "source": [],
      "metadata": {
        "id": "18U0alXm2N5g"
      },
      "execution_count": null,
      "outputs": []
    }
  ]
}