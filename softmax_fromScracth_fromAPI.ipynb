{
  "nbformat": 4,
  "nbformat_minor": 0,
  "metadata": {
    "colab": {
      "name": "softmax_fromScracth_fromAPI.ipynb",
      "provenance": [],
      "collapsed_sections": [],
      "authorship_tag": "ABX9TyPa4BuMQ1H/dBDxsG1CVdfu",
      "include_colab_link": true
    },
    "kernelspec": {
      "name": "python3",
      "display_name": "Python 3"
    },
    "language_info": {
      "name": "python"
    }
  },
  "cells": [
    {
      "cell_type": "markdown",
      "metadata": {
        "id": "view-in-github",
        "colab_type": "text"
      },
      "source": [
        "<a href=\"https://colab.research.google.com/github/zhukuixi/d2l/blob/main/softmax_fromScracth_fromAPI.ipynb\" target=\"_parent\"><img src=\"https://colab.research.google.com/assets/colab-badge.svg\" alt=\"Open In Colab\"/></a>"
      ]
    },
    {
      "cell_type": "code",
      "execution_count": null,
      "metadata": {
        "id": "TYC2domTpwcq"
      },
      "outputs": [],
      "source": [
        "!pip install git+https://github.com/d2l-ai/d2l-zh@release  # installing d2l\n",
        "!pip install matplotlib_inline\n",
        "import torch\n",
        "from IPython import display\n",
        "from d2l import torch as d2l\n",
        "import numpy as np\n",
        "\n"
      ]
    },
    {
      "cell_type": "code",
      "source": [
        "def softmax(X):\n",
        "  X_exp = torch.exp(X)\n",
        "  partition = X_exp.sum(axis=1,keepdims=True)\n",
        "  return X_exp/partition"
      ],
      "metadata": {
        "id": "4OJrFyEHqeV2"
      },
      "execution_count": 12,
      "outputs": []
    },
    {
      "cell_type": "code",
      "source": [
        "# model\n",
        "def net(X):\n",
        "  return softmax(X.reshape((-1,len(W)))@W+b)\n",
        "\n",
        "# loss on training data\n",
        "def cross_entropy(y_hat,y):\n",
        "  return -torch.log(y_hat[np.arange(len(y_hat)),y]).sum()\n",
        "\n",
        "# metric - accuracy\n",
        "def accuracy(y_hat,y):\n",
        "  #由于等式运算符“==”对数据类型很敏感， 因此我们先将比较的prediction的数据类型转换为与y的数据类型一致\n",
        "  if len(y_hat)>1 and y_hat.shape[1]>1:\n",
        "      y_hat = y_hat.argmax(axis=1)\n",
        "  return (y_hat.type(y.dtype)==y).sum()\n",
        "\n",
        "# 设计了一个Accumulator类，用来累积计数，便于计算在validation data上总体的acc\n",
        "class Accumulator:  \n",
        "    \"\"\"在n个变量上累加\"\"\"\n",
        "    def __init__(self, n):\n",
        "        self.data = [0.0] * n\n",
        "\n",
        "    def add(self, *args):\n",
        "        self.data = [a + float(b) for a, b in zip(self.data, args)]\n",
        "\n",
        "    def reset(self):\n",
        "        self.data = [0.0] * len(self.data)\n",
        "\n",
        "    def __getitem__(self, idx):\n",
        "        return self.data[idx]\n",
        "# update parameter\n",
        "def sgd(para,lr,batch_size):\n",
        "  for p in para:\n",
        "    p.data -= p.grad*lr/batch_size\n",
        "    p.grad.zero_()\n",
        "\n",
        "def updater(batch_size):\n",
        "  return sgd([W, b], lr, batch_size)\n",
        "\n",
        "# 完成一个epoch的训练\n",
        "def train_epoch_ch3(net, train_iter, loss, updater):  \n",
        "    \"\"\"训练模型一个迭代周期（定义见第3章）\"\"\"\n",
        "    # 将模型设置为训练模式\n",
        "    if isinstance(net, torch.nn.Module):\n",
        "        net.train()\n",
        "    # 训练损失总和、训练准确度总和、样本数\n",
        "    metric = Accumulator(3)\n",
        "    for X, y in train_iter:\n",
        "        # 计算梯度并更新参数\n",
        "        y_hat = net(X)\n",
        "        l = loss(y_hat, y)\n",
        "        if isinstance(updater, torch.optim.Optimizer):\n",
        "            # 使用PyTorch内置的优化器和损失函数\n",
        "            updater.zero_grad()\n",
        "            l.mean().backward()\n",
        "            updater.step()\n",
        "        else:\n",
        "            # 使用定制的优化器和损失函数\n",
        "            l.sum().backward()\n",
        "            updater(X.shape[0])\n",
        "        metric.add(float(l.sum()), accuracy(y_hat, y), y.numel())\n",
        "    # 返回训练损失和训练精度\n",
        "    return metric[0] / metric[2], metric[1] / metric[2]\n",
        "\n",
        "# 完成一个epoch的训练后，对evaluation data的metric进行测算\n",
        "def evaluate_accuracy(net, data_iter):  \n",
        "    \"\"\"计算在指定数据集上模型的精度\"\"\"\n",
        "    if isinstance(net, torch.nn.Module):\n",
        "        net.eval()  # 将模型设置为评估模式\n",
        "    metric = Accumulator(2)  # 正确预测数、预测总数\n",
        "    with torch.no_grad():\n",
        "        for X, y in data_iter:\n",
        "            metric.add(accuracy(net(X), y), y.numel())\n",
        "    return metric[0] / metric[1]\n",
        "\n",
        "\n",
        "# for draw\n",
        "class Animator:  \n",
        "    \"\"\"在动画中绘制数据\"\"\"\n",
        "    def __init__(self, xlabel=None, ylabel=None, legend=None, xlim=None,\n",
        "                 ylim=None, xscale='linear', yscale='linear',\n",
        "                 fmts=('-', 'm--', 'g-.', 'r:'), nrows=1, ncols=1,\n",
        "                 figsize=(3.5, 2.5)):\n",
        "        # 增量地绘制多条线\n",
        "        if legend is None:\n",
        "            legend = []\n",
        "        d2l.use_svg_display()\n",
        "        self.fig, self.axes = d2l.plt.subplots(nrows, ncols, figsize=figsize)\n",
        "        if nrows * ncols == 1:\n",
        "            self.axes = [self.axes, ]\n",
        "        # 使用lambda函数捕获参数\n",
        "        self.config_axes = lambda: d2l.set_axes(\n",
        "            self.axes[0], xlabel, ylabel, xlim, ylim, xscale, yscale, legend)\n",
        "        self.X, self.Y, self.fmts = None, None, fmts\n",
        "\n",
        "    def add(self, x, y):\n",
        "        # 向图表中添加多个数据点\n",
        "        if not hasattr(y, \"__len__\"):\n",
        "            y = [y]\n",
        "        n = len(y)\n",
        "        if not hasattr(x, \"__len__\"):\n",
        "            x = [x] * n\n",
        "        if not self.X:\n",
        "            self.X = [[] for _ in range(n)]\n",
        "        if not self.Y:\n",
        "            self.Y = [[] for _ in range(n)]\n",
        "        for i, (a, b) in enumerate(zip(x, y)):\n",
        "            if a is not None and b is not None:\n",
        "                self.X[i].append(a)\n",
        "                self.Y[i].append(b)\n",
        "        self.axes[0].cla()\n",
        "        for x, y, fmt in zip(self.X, self.Y, self.fmts):\n",
        "            self.axes[0].plot(x, y, fmt)\n",
        "        self.config_axes()\n",
        "        display.display(self.fig)\n",
        "        display.clear_output(wait=True)\n"
      ],
      "metadata": {
        "id": "o7LiModTqe-s"
      },
      "execution_count": null,
      "outputs": []
    },
    {
      "cell_type": "code",
      "source": [
        "\n",
        "\n",
        "# initial parameter  \n",
        "num_inputs = 784\n",
        "num_outputs = 10\n",
        "W = torch.normal(0, 0.01, size=(num_inputs, num_outputs), requires_grad=True)\n",
        "b = torch.zeros(num_outputs, requires_grad=True)\n",
        "\n",
        "lr = 0.1\n",
        "batch_size = 256\n",
        "train_iter, test_iter = d2l.load_data_fashion_mnist(batch_size)\n"
      ],
      "metadata": {
        "id": "pfghrCQErSeR"
      },
      "execution_count": 55,
      "outputs": []
    },
    {
      "cell_type": "code",
      "source": [
        "def train_ch3(net, train_iter, test_iter, loss, num_epochs, updater): \n",
        "    \"\"\"训练模型（定义见第3章）\"\"\"\n",
        "    animator = Animator(xlabel='epoch', xlim=[1, num_epochs], ylim=[0.3, 0.9],\n",
        "                        legend=['train loss', 'train acc', 'test acc'])\n",
        "    for epoch in range(num_epochs):\n",
        "        train_metrics = train_epoch_ch3(net, train_iter, loss, updater)\n",
        "        test_acc = evaluate_accuracy(net, test_iter)\n",
        "        animator.add(epoch + 1, train_metrics + (test_acc,))\n",
        "    train_loss, train_acc = train_metrics\n",
        "    assert train_loss < 0.5, train_loss\n",
        "    assert train_acc <= 1 and train_acc > 0.7, train_acc\n",
        "    assert test_acc <= 1 and test_acc > 0.7, test_acc"
      ],
      "metadata": {
        "id": "RiwVSBpbsr2K"
      },
      "execution_count": 54,
      "outputs": []
    },
    {
      "cell_type": "code",
      "source": [
        "num_epochs = 10\n",
        "train_ch3(net, train_iter, test_iter, cross_entropy, num_epochs, updater)"
      ],
      "metadata": {
        "id": "LZgp75L0uVqg"
      },
      "execution_count": null,
      "outputs": []
    },
    {
      "cell_type": "markdown",
      "source": [
        "![image.png](data:image/png;base64,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)"
      ],
      "metadata": {
        "id": "d-3HfUZs48S6"
      }
    },
    {
      "cell_type": "code",
      "source": [
        "torch.exp(torch.tensor([50]))"
      ],
      "metadata": {
        "colab": {
          "base_uri": "https://localhost:8080/"
        },
        "id": "lXhEEsEa5lGX",
        "outputId": "e25420e2-7196-4cd4-81f4-a569ce7f7530"
      },
      "execution_count": 60,
      "outputs": [
        {
          "output_type": "execute_result",
          "data": {
            "text/plain": [
              "tensor([5.1847e+21])"
            ]
          },
          "metadata": {},
          "execution_count": 60
        }
      ]
    }
  ]
}